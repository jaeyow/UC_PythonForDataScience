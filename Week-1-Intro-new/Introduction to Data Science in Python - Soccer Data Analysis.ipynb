{
 "cells": [
  {
   "cell_type": "markdown",
   "metadata": {},
   "source": [
    "<br><br><center><h1 style=\"font-size:4em;color:#2467C0\">Week 1: Soccer Data Analysis</h1></center>\n",
    "<br>\n",
    "<table>\n",
    "<col width=\"550\">\n",
    "<col width=\"450\">\n",
    "<tr>\n",
    "<td><img src=\"https://images.pexels.com/photos/1667583/pexels-photo-1667583.jpeg?auto=compress&cs=tinysrgb&dpr=2&h=750&w=1260\" align=\"middle\" style=\"width:550px;height:360px;\"/></td>\n",
    "<td>\n",
    "This week, we will be using an open dataset from the popular site <a href=\"https://www.kaggle.com\">Kaggle</a>. This <a href=\"https://www.kaggle.com/hugomathien/soccer\">European Soccer Database</a> has more than 25,000 matches and more than 10,000 players for European professional soccer seasons from 2008 to 2016. \n",
    "<br>\n",
    "<br>\n",
    "Although we won’t be getting into the details of it for our example, the dataset even has attributes on weekly game updates, team line up, and detailed match events.\n",
    "<br>\n",
    "<br>\n",
    "The goal of this notebook is to walk you through an end to end process of analyzing a dataset and introduce you to what we will be covering in this course. Our simple analytical process will include some steps for exploring  and cleaning our dataset, some steps for predicting player performance using basic statistics, and some steps for grouping similar clusters using machine learning. \n",
    "<br>\n",
    "<br>\n",
    "Let's get started with our Python journey!\n",
    "</td>\n",
    "</tr>\n",
    "</table>"
   ]
  },
  {
   "cell_type": "markdown",
   "metadata": {},
   "source": [
    "## Getting Started\n",
    "<br> To get started, we will need to:\n",
    "<ol>\n",
    "<li>Download the data from: <a href=\"https://www.kaggle.com/hugomathien/soccer\">https://www.kaggle.com/hugomathien/soccer</a></li>\n",
    "<li>Extract the zip file called \"soccer.zip\"</li>\n",
    "    <li>Move the extracted file `database.sqlite` to your Week 1 folder</li>\n",
    "</ol>"
   ]
  },
  {
   "cell_type": "markdown",
   "metadata": {},
   "source": [
    "## Import Libraries\n",
    "<br> We will start by importing the Python libraries we will be using in this analysis. These libraries include:\n",
    "<ul>\n",
    "<li><b>sqllite3</b> for interacting with a local relational database; and</li>\n",
    "<li><b>pandas</b> and <b>numpy</b> for data ingestion and manipulation.</li>\n",
    "<li><b>matplotlib</b> for data visualization</li>\n",
    "<li>specific methods from <b>sklearn</b> for Machine Learning and \n",
    "<li><b>customplot</b>, which contains custom functions we have written for this notebook</li>\n",
    "\n",
    "</ul>"
   ]
  },
  {
   "cell_type": "code",
   "execution_count": 4,
   "metadata": {},
   "outputs": [],
   "source": [
    "import sqlite3\n",
    "import pandas as pd\n",
    "import numpy as np\n",
    "import matplotlib.pyplot as plt\n",
    "from sklearn.cluster import KMeans\n",
    "from sklearn.preprocessing import scale\n",
    "from customplot import *"
   ]
  },
  {
   "cell_type": "markdown",
   "metadata": {},
   "source": [
    "#### Ingest Data\n",
    "\n",
    "Now, we will need to read the dataset using the commands below. \n",
    "\n",
    "<b>Note:</b> Make sure you run the import cell above (shift+enter) before you run the data ingest code below.\n",
    "\n",
    "<b>df</b> is a variable pointing to a pandas data frame. We will learn about them in an upcoming week."
   ]
  },
  {
   "cell_type": "code",
   "execution_count": 9,
   "metadata": {},
   "outputs": [],
   "source": [
    "# Create your connection.\n",
    "cnx = sqlite3.connect('database.sqlite')\n",
    "df = pd.read_sql_query(\"SELECT * FROM Player_Attributes\", cnx)"
   ]
  },
  {
   "cell_type": "markdown",
   "metadata": {},
   "source": [
    "<h1 style=\"font-size:2em;color:#2467C0\">Exploring Data</h1>\n",
    "\n",
    "We will start our data exploration by generating simple statistics of the data. \n",
    "<br><br> \n",
    "Let us look at what the data columns are using a pandas attribute called \"columns\"."
   ]
  },
  {
   "cell_type": "code",
   "execution_count": 10,
   "metadata": {},
   "outputs": [
    {
     "data": {
      "text/plain": [
       "Index(['id', 'player_fifa_api_id', 'player_api_id', 'date', 'overall_rating',\n",
       "       'potential', 'preferred_foot', 'attacking_work_rate',\n",
       "       'defensive_work_rate', 'crossing', 'finishing', 'heading_accuracy',\n",
       "       'short_passing', 'volleys', 'dribbling', 'curve', 'free_kick_accuracy',\n",
       "       'long_passing', 'ball_control', 'acceleration', 'sprint_speed',\n",
       "       'agility', 'reactions', 'balance', 'shot_power', 'jumping', 'stamina',\n",
       "       'strength', 'long_shots', 'aggression', 'interceptions', 'positioning',\n",
       "       'vision', 'penalties', 'marking', 'standing_tackle', 'sliding_tackle',\n",
       "       'gk_diving', 'gk_handling', 'gk_kicking', 'gk_positioning',\n",
       "       'gk_reflexes'],\n",
       "      dtype='object')"
      ]
     },
     "execution_count": 10,
     "metadata": {},
     "output_type": "execute_result"
    }
   ],
   "source": [
    "df.columns"
   ]
  },
  {
   "cell_type": "markdown",
   "metadata": {},
   "source": [
    "Next will display simple statistics of our dataset. You need to run each cell to make sure you see the outputs."
   ]
  },
  {
   "cell_type": "code",
   "execution_count": 11,
   "metadata": {
    "scrolled": true
   },
   "outputs": [
    {
     "data": {
      "text/html": [
       "<div>\n",
       "<style scoped>\n",
       "    .dataframe tbody tr th:only-of-type {\n",
       "        vertical-align: middle;\n",
       "    }\n",
       "\n",
       "    .dataframe tbody tr th {\n",
       "        vertical-align: top;\n",
       "    }\n",
       "\n",
       "    .dataframe thead th {\n",
       "        text-align: right;\n",
       "    }\n",
       "</style>\n",
       "<table border=\"1\" class=\"dataframe\">\n",
       "  <thead>\n",
       "    <tr style=\"text-align: right;\">\n",
       "      <th></th>\n",
       "      <th>count</th>\n",
       "      <th>mean</th>\n",
       "      <th>std</th>\n",
       "      <th>min</th>\n",
       "      <th>25%</th>\n",
       "      <th>50%</th>\n",
       "      <th>75%</th>\n",
       "      <th>max</th>\n",
       "    </tr>\n",
       "  </thead>\n",
       "  <tbody>\n",
       "    <tr>\n",
       "      <th>id</th>\n",
       "      <td>183978.0</td>\n",
       "      <td>91989.500000</td>\n",
       "      <td>53110.018250</td>\n",
       "      <td>1.0</td>\n",
       "      <td>45995.25</td>\n",
       "      <td>91989.5</td>\n",
       "      <td>137983.75</td>\n",
       "      <td>183978.0</td>\n",
       "    </tr>\n",
       "    <tr>\n",
       "      <th>player_fifa_api_id</th>\n",
       "      <td>183978.0</td>\n",
       "      <td>165671.524291</td>\n",
       "      <td>53851.094769</td>\n",
       "      <td>2.0</td>\n",
       "      <td>155798.00</td>\n",
       "      <td>183488.0</td>\n",
       "      <td>199848.00</td>\n",
       "      <td>234141.0</td>\n",
       "    </tr>\n",
       "    <tr>\n",
       "      <th>player_api_id</th>\n",
       "      <td>183978.0</td>\n",
       "      <td>135900.617324</td>\n",
       "      <td>136927.840510</td>\n",
       "      <td>2625.0</td>\n",
       "      <td>34763.00</td>\n",
       "      <td>77741.0</td>\n",
       "      <td>191080.00</td>\n",
       "      <td>750584.0</td>\n",
       "    </tr>\n",
       "    <tr>\n",
       "      <th>overall_rating</th>\n",
       "      <td>183142.0</td>\n",
       "      <td>68.600015</td>\n",
       "      <td>7.041139</td>\n",
       "      <td>33.0</td>\n",
       "      <td>64.00</td>\n",
       "      <td>69.0</td>\n",
       "      <td>73.00</td>\n",
       "      <td>94.0</td>\n",
       "    </tr>\n",
       "    <tr>\n",
       "      <th>potential</th>\n",
       "      <td>183142.0</td>\n",
       "      <td>73.460353</td>\n",
       "      <td>6.592271</td>\n",
       "      <td>39.0</td>\n",
       "      <td>69.00</td>\n",
       "      <td>74.0</td>\n",
       "      <td>78.00</td>\n",
       "      <td>97.0</td>\n",
       "    </tr>\n",
       "    <tr>\n",
       "      <th>crossing</th>\n",
       "      <td>183142.0</td>\n",
       "      <td>55.086883</td>\n",
       "      <td>17.242135</td>\n",
       "      <td>1.0</td>\n",
       "      <td>45.00</td>\n",
       "      <td>59.0</td>\n",
       "      <td>68.00</td>\n",
       "      <td>95.0</td>\n",
       "    </tr>\n",
       "    <tr>\n",
       "      <th>finishing</th>\n",
       "      <td>183142.0</td>\n",
       "      <td>49.921078</td>\n",
       "      <td>19.038705</td>\n",
       "      <td>1.0</td>\n",
       "      <td>34.00</td>\n",
       "      <td>53.0</td>\n",
       "      <td>65.00</td>\n",
       "      <td>97.0</td>\n",
       "    </tr>\n",
       "    <tr>\n",
       "      <th>heading_accuracy</th>\n",
       "      <td>183142.0</td>\n",
       "      <td>57.266023</td>\n",
       "      <td>16.488905</td>\n",
       "      <td>1.0</td>\n",
       "      <td>49.00</td>\n",
       "      <td>60.0</td>\n",
       "      <td>68.00</td>\n",
       "      <td>98.0</td>\n",
       "    </tr>\n",
       "    <tr>\n",
       "      <th>short_passing</th>\n",
       "      <td>183142.0</td>\n",
       "      <td>62.429672</td>\n",
       "      <td>14.194068</td>\n",
       "      <td>3.0</td>\n",
       "      <td>57.00</td>\n",
       "      <td>65.0</td>\n",
       "      <td>72.00</td>\n",
       "      <td>97.0</td>\n",
       "    </tr>\n",
       "    <tr>\n",
       "      <th>volleys</th>\n",
       "      <td>181265.0</td>\n",
       "      <td>49.468436</td>\n",
       "      <td>18.256618</td>\n",
       "      <td>1.0</td>\n",
       "      <td>35.00</td>\n",
       "      <td>52.0</td>\n",
       "      <td>64.00</td>\n",
       "      <td>93.0</td>\n",
       "    </tr>\n",
       "    <tr>\n",
       "      <th>dribbling</th>\n",
       "      <td>183142.0</td>\n",
       "      <td>59.175154</td>\n",
       "      <td>17.744688</td>\n",
       "      <td>1.0</td>\n",
       "      <td>52.00</td>\n",
       "      <td>64.0</td>\n",
       "      <td>72.00</td>\n",
       "      <td>97.0</td>\n",
       "    </tr>\n",
       "    <tr>\n",
       "      <th>curve</th>\n",
       "      <td>181265.0</td>\n",
       "      <td>52.965675</td>\n",
       "      <td>18.255788</td>\n",
       "      <td>2.0</td>\n",
       "      <td>41.00</td>\n",
       "      <td>56.0</td>\n",
       "      <td>67.00</td>\n",
       "      <td>94.0</td>\n",
       "    </tr>\n",
       "    <tr>\n",
       "      <th>free_kick_accuracy</th>\n",
       "      <td>183142.0</td>\n",
       "      <td>49.380950</td>\n",
       "      <td>17.831746</td>\n",
       "      <td>1.0</td>\n",
       "      <td>36.00</td>\n",
       "      <td>50.0</td>\n",
       "      <td>63.00</td>\n",
       "      <td>97.0</td>\n",
       "    </tr>\n",
       "    <tr>\n",
       "      <th>long_passing</th>\n",
       "      <td>183142.0</td>\n",
       "      <td>57.069880</td>\n",
       "      <td>14.394464</td>\n",
       "      <td>3.0</td>\n",
       "      <td>49.00</td>\n",
       "      <td>59.0</td>\n",
       "      <td>67.00</td>\n",
       "      <td>97.0</td>\n",
       "    </tr>\n",
       "    <tr>\n",
       "      <th>ball_control</th>\n",
       "      <td>183142.0</td>\n",
       "      <td>63.388879</td>\n",
       "      <td>15.196671</td>\n",
       "      <td>5.0</td>\n",
       "      <td>58.00</td>\n",
       "      <td>67.0</td>\n",
       "      <td>73.00</td>\n",
       "      <td>97.0</td>\n",
       "    </tr>\n",
       "    <tr>\n",
       "      <th>acceleration</th>\n",
       "      <td>183142.0</td>\n",
       "      <td>67.659357</td>\n",
       "      <td>12.983326</td>\n",
       "      <td>10.0</td>\n",
       "      <td>61.00</td>\n",
       "      <td>69.0</td>\n",
       "      <td>77.00</td>\n",
       "      <td>97.0</td>\n",
       "    </tr>\n",
       "    <tr>\n",
       "      <th>sprint_speed</th>\n",
       "      <td>183142.0</td>\n",
       "      <td>68.051244</td>\n",
       "      <td>12.569721</td>\n",
       "      <td>12.0</td>\n",
       "      <td>62.00</td>\n",
       "      <td>69.0</td>\n",
       "      <td>77.00</td>\n",
       "      <td>97.0</td>\n",
       "    </tr>\n",
       "    <tr>\n",
       "      <th>agility</th>\n",
       "      <td>181265.0</td>\n",
       "      <td>65.970910</td>\n",
       "      <td>12.954585</td>\n",
       "      <td>11.0</td>\n",
       "      <td>58.00</td>\n",
       "      <td>68.0</td>\n",
       "      <td>75.00</td>\n",
       "      <td>96.0</td>\n",
       "    </tr>\n",
       "    <tr>\n",
       "      <th>reactions</th>\n",
       "      <td>183142.0</td>\n",
       "      <td>66.103706</td>\n",
       "      <td>9.155408</td>\n",
       "      <td>17.0</td>\n",
       "      <td>61.00</td>\n",
       "      <td>67.0</td>\n",
       "      <td>72.00</td>\n",
       "      <td>96.0</td>\n",
       "    </tr>\n",
       "    <tr>\n",
       "      <th>balance</th>\n",
       "      <td>181265.0</td>\n",
       "      <td>65.189496</td>\n",
       "      <td>13.063188</td>\n",
       "      <td>12.0</td>\n",
       "      <td>58.00</td>\n",
       "      <td>67.0</td>\n",
       "      <td>74.00</td>\n",
       "      <td>96.0</td>\n",
       "    </tr>\n",
       "    <tr>\n",
       "      <th>shot_power</th>\n",
       "      <td>183142.0</td>\n",
       "      <td>61.808427</td>\n",
       "      <td>16.135143</td>\n",
       "      <td>2.0</td>\n",
       "      <td>54.00</td>\n",
       "      <td>65.0</td>\n",
       "      <td>73.00</td>\n",
       "      <td>97.0</td>\n",
       "    </tr>\n",
       "    <tr>\n",
       "      <th>jumping</th>\n",
       "      <td>181265.0</td>\n",
       "      <td>66.969045</td>\n",
       "      <td>11.006734</td>\n",
       "      <td>14.0</td>\n",
       "      <td>60.00</td>\n",
       "      <td>68.0</td>\n",
       "      <td>74.00</td>\n",
       "      <td>96.0</td>\n",
       "    </tr>\n",
       "    <tr>\n",
       "      <th>stamina</th>\n",
       "      <td>183142.0</td>\n",
       "      <td>67.038544</td>\n",
       "      <td>13.165262</td>\n",
       "      <td>10.0</td>\n",
       "      <td>61.00</td>\n",
       "      <td>69.0</td>\n",
       "      <td>76.00</td>\n",
       "      <td>96.0</td>\n",
       "    </tr>\n",
       "    <tr>\n",
       "      <th>strength</th>\n",
       "      <td>183142.0</td>\n",
       "      <td>67.424529</td>\n",
       "      <td>12.072280</td>\n",
       "      <td>10.0</td>\n",
       "      <td>60.00</td>\n",
       "      <td>69.0</td>\n",
       "      <td>76.00</td>\n",
       "      <td>96.0</td>\n",
       "    </tr>\n",
       "    <tr>\n",
       "      <th>long_shots</th>\n",
       "      <td>183142.0</td>\n",
       "      <td>53.339431</td>\n",
       "      <td>18.367025</td>\n",
       "      <td>1.0</td>\n",
       "      <td>41.00</td>\n",
       "      <td>58.0</td>\n",
       "      <td>67.00</td>\n",
       "      <td>96.0</td>\n",
       "    </tr>\n",
       "    <tr>\n",
       "      <th>aggression</th>\n",
       "      <td>183142.0</td>\n",
       "      <td>60.948046</td>\n",
       "      <td>16.089521</td>\n",
       "      <td>6.0</td>\n",
       "      <td>51.00</td>\n",
       "      <td>64.0</td>\n",
       "      <td>73.00</td>\n",
       "      <td>97.0</td>\n",
       "    </tr>\n",
       "    <tr>\n",
       "      <th>interceptions</th>\n",
       "      <td>183142.0</td>\n",
       "      <td>52.009271</td>\n",
       "      <td>19.450133</td>\n",
       "      <td>1.0</td>\n",
       "      <td>34.00</td>\n",
       "      <td>57.0</td>\n",
       "      <td>68.00</td>\n",
       "      <td>96.0</td>\n",
       "    </tr>\n",
       "    <tr>\n",
       "      <th>positioning</th>\n",
       "      <td>183142.0</td>\n",
       "      <td>55.786504</td>\n",
       "      <td>18.448292</td>\n",
       "      <td>2.0</td>\n",
       "      <td>45.00</td>\n",
       "      <td>60.0</td>\n",
       "      <td>69.00</td>\n",
       "      <td>96.0</td>\n",
       "    </tr>\n",
       "    <tr>\n",
       "      <th>vision</th>\n",
       "      <td>181265.0</td>\n",
       "      <td>57.873550</td>\n",
       "      <td>15.144086</td>\n",
       "      <td>1.0</td>\n",
       "      <td>49.00</td>\n",
       "      <td>60.0</td>\n",
       "      <td>69.00</td>\n",
       "      <td>97.0</td>\n",
       "    </tr>\n",
       "    <tr>\n",
       "      <th>penalties</th>\n",
       "      <td>183142.0</td>\n",
       "      <td>55.003986</td>\n",
       "      <td>15.546519</td>\n",
       "      <td>2.0</td>\n",
       "      <td>45.00</td>\n",
       "      <td>57.0</td>\n",
       "      <td>67.00</td>\n",
       "      <td>96.0</td>\n",
       "    </tr>\n",
       "    <tr>\n",
       "      <th>marking</th>\n",
       "      <td>183142.0</td>\n",
       "      <td>46.772242</td>\n",
       "      <td>21.227667</td>\n",
       "      <td>1.0</td>\n",
       "      <td>25.00</td>\n",
       "      <td>50.0</td>\n",
       "      <td>66.00</td>\n",
       "      <td>96.0</td>\n",
       "    </tr>\n",
       "    <tr>\n",
       "      <th>standing_tackle</th>\n",
       "      <td>183142.0</td>\n",
       "      <td>50.351257</td>\n",
       "      <td>21.483706</td>\n",
       "      <td>1.0</td>\n",
       "      <td>29.00</td>\n",
       "      <td>56.0</td>\n",
       "      <td>69.00</td>\n",
       "      <td>95.0</td>\n",
       "    </tr>\n",
       "    <tr>\n",
       "      <th>sliding_tackle</th>\n",
       "      <td>181265.0</td>\n",
       "      <td>48.001462</td>\n",
       "      <td>21.598778</td>\n",
       "      <td>2.0</td>\n",
       "      <td>25.00</td>\n",
       "      <td>53.0</td>\n",
       "      <td>67.00</td>\n",
       "      <td>95.0</td>\n",
       "    </tr>\n",
       "    <tr>\n",
       "      <th>gk_diving</th>\n",
       "      <td>183142.0</td>\n",
       "      <td>14.704393</td>\n",
       "      <td>16.865467</td>\n",
       "      <td>1.0</td>\n",
       "      <td>7.00</td>\n",
       "      <td>10.0</td>\n",
       "      <td>13.00</td>\n",
       "      <td>94.0</td>\n",
       "    </tr>\n",
       "    <tr>\n",
       "      <th>gk_handling</th>\n",
       "      <td>183142.0</td>\n",
       "      <td>16.063612</td>\n",
       "      <td>15.867382</td>\n",
       "      <td>1.0</td>\n",
       "      <td>8.00</td>\n",
       "      <td>11.0</td>\n",
       "      <td>15.00</td>\n",
       "      <td>93.0</td>\n",
       "    </tr>\n",
       "    <tr>\n",
       "      <th>gk_kicking</th>\n",
       "      <td>183142.0</td>\n",
       "      <td>20.998362</td>\n",
       "      <td>21.452980</td>\n",
       "      <td>1.0</td>\n",
       "      <td>8.00</td>\n",
       "      <td>12.0</td>\n",
       "      <td>15.00</td>\n",
       "      <td>97.0</td>\n",
       "    </tr>\n",
       "    <tr>\n",
       "      <th>gk_positioning</th>\n",
       "      <td>183142.0</td>\n",
       "      <td>16.132154</td>\n",
       "      <td>16.099175</td>\n",
       "      <td>1.0</td>\n",
       "      <td>8.00</td>\n",
       "      <td>11.0</td>\n",
       "      <td>15.00</td>\n",
       "      <td>96.0</td>\n",
       "    </tr>\n",
       "    <tr>\n",
       "      <th>gk_reflexes</th>\n",
       "      <td>183142.0</td>\n",
       "      <td>16.441439</td>\n",
       "      <td>17.198155</td>\n",
       "      <td>1.0</td>\n",
       "      <td>8.00</td>\n",
       "      <td>11.0</td>\n",
       "      <td>15.00</td>\n",
       "      <td>96.0</td>\n",
       "    </tr>\n",
       "  </tbody>\n",
       "</table>\n",
       "</div>"
      ],
      "text/plain": [
       "                       count           mean            std     min        25%  \\\n",
       "id                  183978.0   91989.500000   53110.018250     1.0   45995.25   \n",
       "player_fifa_api_id  183978.0  165671.524291   53851.094769     2.0  155798.00   \n",
       "player_api_id       183978.0  135900.617324  136927.840510  2625.0   34763.00   \n",
       "overall_rating      183142.0      68.600015       7.041139    33.0      64.00   \n",
       "potential           183142.0      73.460353       6.592271    39.0      69.00   \n",
       "crossing            183142.0      55.086883      17.242135     1.0      45.00   \n",
       "finishing           183142.0      49.921078      19.038705     1.0      34.00   \n",
       "heading_accuracy    183142.0      57.266023      16.488905     1.0      49.00   \n",
       "short_passing       183142.0      62.429672      14.194068     3.0      57.00   \n",
       "volleys             181265.0      49.468436      18.256618     1.0      35.00   \n",
       "dribbling           183142.0      59.175154      17.744688     1.0      52.00   \n",
       "curve               181265.0      52.965675      18.255788     2.0      41.00   \n",
       "free_kick_accuracy  183142.0      49.380950      17.831746     1.0      36.00   \n",
       "long_passing        183142.0      57.069880      14.394464     3.0      49.00   \n",
       "ball_control        183142.0      63.388879      15.196671     5.0      58.00   \n",
       "acceleration        183142.0      67.659357      12.983326    10.0      61.00   \n",
       "sprint_speed        183142.0      68.051244      12.569721    12.0      62.00   \n",
       "agility             181265.0      65.970910      12.954585    11.0      58.00   \n",
       "reactions           183142.0      66.103706       9.155408    17.0      61.00   \n",
       "balance             181265.0      65.189496      13.063188    12.0      58.00   \n",
       "shot_power          183142.0      61.808427      16.135143     2.0      54.00   \n",
       "jumping             181265.0      66.969045      11.006734    14.0      60.00   \n",
       "stamina             183142.0      67.038544      13.165262    10.0      61.00   \n",
       "strength            183142.0      67.424529      12.072280    10.0      60.00   \n",
       "long_shots          183142.0      53.339431      18.367025     1.0      41.00   \n",
       "aggression          183142.0      60.948046      16.089521     6.0      51.00   \n",
       "interceptions       183142.0      52.009271      19.450133     1.0      34.00   \n",
       "positioning         183142.0      55.786504      18.448292     2.0      45.00   \n",
       "vision              181265.0      57.873550      15.144086     1.0      49.00   \n",
       "penalties           183142.0      55.003986      15.546519     2.0      45.00   \n",
       "marking             183142.0      46.772242      21.227667     1.0      25.00   \n",
       "standing_tackle     183142.0      50.351257      21.483706     1.0      29.00   \n",
       "sliding_tackle      181265.0      48.001462      21.598778     2.0      25.00   \n",
       "gk_diving           183142.0      14.704393      16.865467     1.0       7.00   \n",
       "gk_handling         183142.0      16.063612      15.867382     1.0       8.00   \n",
       "gk_kicking          183142.0      20.998362      21.452980     1.0       8.00   \n",
       "gk_positioning      183142.0      16.132154      16.099175     1.0       8.00   \n",
       "gk_reflexes         183142.0      16.441439      17.198155     1.0       8.00   \n",
       "\n",
       "                         50%        75%       max  \n",
       "id                   91989.5  137983.75  183978.0  \n",
       "player_fifa_api_id  183488.0  199848.00  234141.0  \n",
       "player_api_id        77741.0  191080.00  750584.0  \n",
       "overall_rating          69.0      73.00      94.0  \n",
       "potential               74.0      78.00      97.0  \n",
       "crossing                59.0      68.00      95.0  \n",
       "finishing               53.0      65.00      97.0  \n",
       "heading_accuracy        60.0      68.00      98.0  \n",
       "short_passing           65.0      72.00      97.0  \n",
       "volleys                 52.0      64.00      93.0  \n",
       "dribbling               64.0      72.00      97.0  \n",
       "curve                   56.0      67.00      94.0  \n",
       "free_kick_accuracy      50.0      63.00      97.0  \n",
       "long_passing            59.0      67.00      97.0  \n",
       "ball_control            67.0      73.00      97.0  \n",
       "acceleration            69.0      77.00      97.0  \n",
       "sprint_speed            69.0      77.00      97.0  \n",
       "agility                 68.0      75.00      96.0  \n",
       "reactions               67.0      72.00      96.0  \n",
       "balance                 67.0      74.00      96.0  \n",
       "shot_power              65.0      73.00      97.0  \n",
       "jumping                 68.0      74.00      96.0  \n",
       "stamina                 69.0      76.00      96.0  \n",
       "strength                69.0      76.00      96.0  \n",
       "long_shots              58.0      67.00      96.0  \n",
       "aggression              64.0      73.00      97.0  \n",
       "interceptions           57.0      68.00      96.0  \n",
       "positioning             60.0      69.00      96.0  \n",
       "vision                  60.0      69.00      97.0  \n",
       "penalties               57.0      67.00      96.0  \n",
       "marking                 50.0      66.00      96.0  \n",
       "standing_tackle         56.0      69.00      95.0  \n",
       "sliding_tackle          53.0      67.00      95.0  \n",
       "gk_diving               10.0      13.00      94.0  \n",
       "gk_handling             11.0      15.00      93.0  \n",
       "gk_kicking              12.0      15.00      97.0  \n",
       "gk_positioning          11.0      15.00      96.0  \n",
       "gk_reflexes             11.0      15.00      96.0  "
      ]
     },
     "execution_count": 11,
     "metadata": {},
     "output_type": "execute_result"
    }
   ],
   "source": [
    "df.describe().transpose()"
   ]
  },
  {
   "cell_type": "markdown",
   "metadata": {},
   "source": [
    "<h1 style=\"font-size:2em;color:#2467C0\">Data Cleaning: Handling Missing Data</h1>\n",
    "Real data is never clean. We need to make sure we clean the data by converting or getting rid of null or missing values.<br>\n",
    "The next code cell will show you if any of the 183978 rows have null value in one of the 42 columns."
   ]
  },
  {
   "cell_type": "code",
   "execution_count": 12,
   "metadata": {},
   "outputs": [
    {
     "data": {
      "text/plain": [
       "(True, (183978, 42))"
      ]
     },
     "execution_count": 12,
     "metadata": {},
     "output_type": "execute_result"
    }
   ],
   "source": [
    "#is any row NULL ?\n",
    "df.isnull().any().any(), df.shape"
   ]
  },
  {
   "cell_type": "markdown",
   "metadata": {},
   "source": [
    "Now let's try to find how many data points in each column are null."
   ]
  },
  {
   "cell_type": "code",
   "execution_count": 13,
   "metadata": {},
   "outputs": [
    {
     "data": {
      "text/plain": [
       "id                        0\n",
       "player_fifa_api_id        0\n",
       "player_api_id             0\n",
       "date                      0\n",
       "overall_rating          836\n",
       "potential               836\n",
       "preferred_foot          836\n",
       "attacking_work_rate    3230\n",
       "defensive_work_rate     836\n",
       "crossing                836\n",
       "finishing               836\n",
       "heading_accuracy        836\n",
       "short_passing           836\n",
       "volleys                2713\n",
       "dribbling               836\n",
       "curve                  2713\n",
       "free_kick_accuracy      836\n",
       "long_passing            836\n",
       "ball_control            836\n",
       "acceleration            836\n",
       "sprint_speed            836\n",
       "agility                2713\n",
       "reactions               836\n",
       "balance                2713\n",
       "shot_power              836\n",
       "jumping                2713\n",
       "stamina                 836\n",
       "strength                836\n",
       "long_shots              836\n",
       "aggression              836\n",
       "interceptions           836\n",
       "positioning             836\n",
       "vision                 2713\n",
       "penalties               836\n",
       "marking                 836\n",
       "standing_tackle         836\n",
       "sliding_tackle         2713\n",
       "gk_diving               836\n",
       "gk_handling             836\n",
       "gk_kicking              836\n",
       "gk_positioning          836\n",
       "gk_reflexes             836\n",
       "dtype: int64"
      ]
     },
     "execution_count": 13,
     "metadata": {},
     "output_type": "execute_result"
    }
   ],
   "source": [
    "df.isnull().sum(axis=0)"
   ]
  },
  {
   "cell_type": "markdown",
   "metadata": {},
   "source": [
    "## Fixing Null Values by Deleting Them\n",
    "\n",
    "In our next two lines, we will drop the null values by going through each row.\n"
   ]
  },
  {
   "cell_type": "code",
   "execution_count": 14,
   "metadata": {},
   "outputs": [],
   "source": [
    "# Fix it\n",
    "\n",
    "# Take initial # of rows\n",
    "rows = df.shape[0]\n",
    "\n",
    "# Drop the NULL rows\n",
    "df = df.dropna()"
   ]
  },
  {
   "cell_type": "markdown",
   "metadata": {},
   "source": [
    "Now if we check the null values and number of rows, we will see that there are no null values and number of rows decreased accordingly."
   ]
  },
  {
   "cell_type": "code",
   "execution_count": 15,
   "metadata": {},
   "outputs": [
    {
     "name": "stdout",
     "output_type": "stream",
     "text": [
      "183978\n"
     ]
    },
    {
     "data": {
      "text/plain": [
       "(False, (180354, 42))"
      ]
     },
     "execution_count": 15,
     "metadata": {},
     "output_type": "execute_result"
    }
   ],
   "source": [
    "#Check if all NULLS are gone ?\n",
    "print(rows)\n",
    "df.isnull().any().any(), df.shape"
   ]
  },
  {
   "cell_type": "markdown",
   "metadata": {},
   "source": [
    "To find exactly how many lines we removed, we need to subtract the current number of rows in our data frame from the original number of rows."
   ]
  },
  {
   "cell_type": "code",
   "execution_count": 16,
   "metadata": {},
   "outputs": [
    {
     "data": {
      "text/plain": [
       "3624"
      ]
     },
     "execution_count": 16,
     "metadata": {},
     "output_type": "execute_result"
    }
   ],
   "source": [
    "#How many rows with NULL values?\n",
    "\n",
    "rows - df.shape[0]"
   ]
  },
  {
   "cell_type": "markdown",
   "metadata": {},
   "source": [
    "Our data table has many lines as you have seen. We can only look at few lines at once. Instead of looking at same top 10 lines every time, we shuffle - so we get to see different random sample on top. This way, we make sure the data is not in any particular order when we try sampling from it (like taking top or bottom few rows) by randomly shuffling the rows."
   ]
  },
  {
   "cell_type": "code",
   "execution_count": 17,
   "metadata": {},
   "outputs": [],
   "source": [
    "#Shuffle the rows of df so we get a distributed sample when we display top few rows\n",
    "\n",
    "df = df.reindex(np.random.permutation(df.index))"
   ]
  },
  {
   "cell_type": "markdown",
   "metadata": {},
   "source": [
    "<h1 style=\"font-size:2em;color:#2467C0\">Predicting: 'overall_rating' of a player</h1>\n",
    "Now that our data cleaning step is reasonably complete and we can trust and understand the data more, we will start diving into the dataset further. "
   ]
  },
  {
   "cell_type": "markdown",
   "metadata": {},
   "source": [
    "### Let's take a look at top few rows.\n",
    "\n",
    "We will use the head function for data frames for this task. This gives us every column in every row."
   ]
  },
  {
   "cell_type": "code",
   "execution_count": 22,
   "metadata": {
    "scrolled": false
   },
   "outputs": [
    {
     "data": {
      "text/html": [
       "<div>\n",
       "<style scoped>\n",
       "    .dataframe tbody tr th:only-of-type {\n",
       "        vertical-align: middle;\n",
       "    }\n",
       "\n",
       "    .dataframe tbody tr th {\n",
       "        vertical-align: top;\n",
       "    }\n",
       "\n",
       "    .dataframe thead th {\n",
       "        text-align: right;\n",
       "    }\n",
       "</style>\n",
       "<table border=\"1\" class=\"dataframe\">\n",
       "  <thead>\n",
       "    <tr style=\"text-align: right;\">\n",
       "      <th></th>\n",
       "      <th>id</th>\n",
       "      <th>player_fifa_api_id</th>\n",
       "      <th>player_api_id</th>\n",
       "      <th>date</th>\n",
       "      <th>overall_rating</th>\n",
       "      <th>potential</th>\n",
       "      <th>preferred_foot</th>\n",
       "      <th>attacking_work_rate</th>\n",
       "      <th>defensive_work_rate</th>\n",
       "      <th>crossing</th>\n",
       "      <th>...</th>\n",
       "      <th>vision</th>\n",
       "      <th>penalties</th>\n",
       "      <th>marking</th>\n",
       "      <th>standing_tackle</th>\n",
       "      <th>sliding_tackle</th>\n",
       "      <th>gk_diving</th>\n",
       "      <th>gk_handling</th>\n",
       "      <th>gk_kicking</th>\n",
       "      <th>gk_positioning</th>\n",
       "      <th>gk_reflexes</th>\n",
       "    </tr>\n",
       "  </thead>\n",
       "  <tbody>\n",
       "    <tr>\n",
       "      <th>9973</th>\n",
       "      <td>9974</td>\n",
       "      <td>203187</td>\n",
       "      <td>244840</td>\n",
       "      <td>2012-08-31 00:00:00</td>\n",
       "      <td>72.0</td>\n",
       "      <td>83.0</td>\n",
       "      <td>right</td>\n",
       "      <td>medium</td>\n",
       "      <td>high</td>\n",
       "      <td>60.0</td>\n",
       "      <td>...</td>\n",
       "      <td>61.0</td>\n",
       "      <td>59.0</td>\n",
       "      <td>65.0</td>\n",
       "      <td>73.0</td>\n",
       "      <td>73.0</td>\n",
       "      <td>9.0</td>\n",
       "      <td>13.0</td>\n",
       "      <td>7.0</td>\n",
       "      <td>7.0</td>\n",
       "      <td>8.0</td>\n",
       "    </tr>\n",
       "    <tr>\n",
       "      <th>127761</th>\n",
       "      <td>127762</td>\n",
       "      <td>189248</td>\n",
       "      <td>147733</td>\n",
       "      <td>2013-02-15 00:00:00</td>\n",
       "      <td>71.0</td>\n",
       "      <td>73.0</td>\n",
       "      <td>right</td>\n",
       "      <td>medium</td>\n",
       "      <td>medium</td>\n",
       "      <td>13.0</td>\n",
       "      <td>...</td>\n",
       "      <td>12.0</td>\n",
       "      <td>30.0</td>\n",
       "      <td>14.0</td>\n",
       "      <td>13.0</td>\n",
       "      <td>13.0</td>\n",
       "      <td>74.0</td>\n",
       "      <td>65.0</td>\n",
       "      <td>64.0</td>\n",
       "      <td>68.0</td>\n",
       "      <td>77.0</td>\n",
       "    </tr>\n",
       "    <tr>\n",
       "      <th>95314</th>\n",
       "      <td>95315</td>\n",
       "      <td>224841</td>\n",
       "      <td>566158</td>\n",
       "      <td>2015-02-20 00:00:00</td>\n",
       "      <td>62.0</td>\n",
       "      <td>75.0</td>\n",
       "      <td>right</td>\n",
       "      <td>medium</td>\n",
       "      <td>medium</td>\n",
       "      <td>54.0</td>\n",
       "      <td>...</td>\n",
       "      <td>30.0</td>\n",
       "      <td>41.0</td>\n",
       "      <td>61.0</td>\n",
       "      <td>68.0</td>\n",
       "      <td>66.0</td>\n",
       "      <td>6.0</td>\n",
       "      <td>14.0</td>\n",
       "      <td>8.0</td>\n",
       "      <td>9.0</td>\n",
       "      <td>14.0</td>\n",
       "    </tr>\n",
       "    <tr>\n",
       "      <th>590</th>\n",
       "      <td>591</td>\n",
       "      <td>161999</td>\n",
       "      <td>39562</td>\n",
       "      <td>2013-09-20 00:00:00</td>\n",
       "      <td>79.0</td>\n",
       "      <td>79.0</td>\n",
       "      <td>right</td>\n",
       "      <td>medium</td>\n",
       "      <td>medium</td>\n",
       "      <td>82.0</td>\n",
       "      <td>...</td>\n",
       "      <td>67.0</td>\n",
       "      <td>50.0</td>\n",
       "      <td>74.0</td>\n",
       "      <td>78.0</td>\n",
       "      <td>82.0</td>\n",
       "      <td>12.0</td>\n",
       "      <td>15.0</td>\n",
       "      <td>10.0</td>\n",
       "      <td>11.0</td>\n",
       "      <td>14.0</td>\n",
       "    </tr>\n",
       "    <tr>\n",
       "      <th>152239</th>\n",
       "      <td>152240</td>\n",
       "      <td>193985</td>\n",
       "      <td>34675</td>\n",
       "      <td>2016-03-17 00:00:00</td>\n",
       "      <td>74.0</td>\n",
       "      <td>74.0</td>\n",
       "      <td>right</td>\n",
       "      <td>low</td>\n",
       "      <td>high</td>\n",
       "      <td>46.0</td>\n",
       "      <td>...</td>\n",
       "      <td>63.0</td>\n",
       "      <td>57.0</td>\n",
       "      <td>73.0</td>\n",
       "      <td>77.0</td>\n",
       "      <td>74.0</td>\n",
       "      <td>9.0</td>\n",
       "      <td>12.0</td>\n",
       "      <td>13.0</td>\n",
       "      <td>14.0</td>\n",
       "      <td>14.0</td>\n",
       "    </tr>\n",
       "  </tbody>\n",
       "</table>\n",
       "<p>5 rows × 42 columns</p>\n",
       "</div>"
      ],
      "text/plain": [
       "            id  player_fifa_api_id  player_api_id                 date  \\\n",
       "9973      9974              203187         244840  2012-08-31 00:00:00   \n",
       "127761  127762              189248         147733  2013-02-15 00:00:00   \n",
       "95314    95315              224841         566158  2015-02-20 00:00:00   \n",
       "590        591              161999          39562  2013-09-20 00:00:00   \n",
       "152239  152240              193985          34675  2016-03-17 00:00:00   \n",
       "\n",
       "        overall_rating  potential preferred_foot attacking_work_rate  \\\n",
       "9973              72.0       83.0          right              medium   \n",
       "127761            71.0       73.0          right              medium   \n",
       "95314             62.0       75.0          right              medium   \n",
       "590               79.0       79.0          right              medium   \n",
       "152239            74.0       74.0          right                 low   \n",
       "\n",
       "       defensive_work_rate  crossing  ...  vision  penalties  marking  \\\n",
       "9973                  high      60.0  ...    61.0       59.0     65.0   \n",
       "127761              medium      13.0  ...    12.0       30.0     14.0   \n",
       "95314               medium      54.0  ...    30.0       41.0     61.0   \n",
       "590                 medium      82.0  ...    67.0       50.0     74.0   \n",
       "152239                high      46.0  ...    63.0       57.0     73.0   \n",
       "\n",
       "        standing_tackle  sliding_tackle  gk_diving  gk_handling  gk_kicking  \\\n",
       "9973               73.0            73.0        9.0         13.0         7.0   \n",
       "127761             13.0            13.0       74.0         65.0        64.0   \n",
       "95314              68.0            66.0        6.0         14.0         8.0   \n",
       "590                78.0            82.0       12.0         15.0        10.0   \n",
       "152239             77.0            74.0        9.0         12.0        13.0   \n",
       "\n",
       "        gk_positioning  gk_reflexes  \n",
       "9973               7.0          8.0  \n",
       "127761            68.0         77.0  \n",
       "95314              9.0         14.0  \n",
       "590               11.0         14.0  \n",
       "152239            14.0         14.0  \n",
       "\n",
       "[5 rows x 42 columns]"
      ]
     },
     "execution_count": 22,
     "metadata": {},
     "output_type": "execute_result"
    }
   ],
   "source": [
    "df.head(5)"
   ]
  },
  {
   "cell_type": "markdown",
   "metadata": {},
   "source": [
    "Most of the time, we are only interested in plotting some columns. In that case, we can use the pandas column selection option as follows. Please ignore the first column in the output of the one line code below. It is the unique identifier that acts as an index for the data.<br><br>\n",
    "<b>Note:</b> From this point on, we will start referring to the columns as \"features\" in our description."
   ]
  },
  {
   "cell_type": "code",
   "execution_count": null,
   "metadata": {},
   "outputs": [],
   "source": [
    "df[:10][['penalties', 'overall_rating']]"
   ]
  },
  {
   "cell_type": "markdown",
   "metadata": {},
   "source": [
    "## Feature Correlation Analysis \n",
    "Next, we will check if 'penalties' is correlated to 'overall_rating'. We are using a similar selection operation, bu this time for all the rows and within the correlation function. "
   ]
  },
  {
   "cell_type": "markdown",
   "metadata": {},
   "source": [
    "# Are these correlated (using Pearson's correlation coefficient)?"
   ]
  },
  {
   "cell_type": "code",
   "execution_count": null,
   "metadata": {},
   "outputs": [],
   "source": [
    "df['overall_rating'].corr(df['penalties'])"
   ]
  },
  {
   "cell_type": "markdown",
   "metadata": {},
   "source": [
    "We see that Pearson's Correlation Coefficient for these two columns is 0.39. <br><br>\n",
    "Pearson goes from -1 to +1. A value of 0 would have told there is no correlation, so we shouldn’t bother looking at that attribute. A value of 0.39 shows some correlation, although it could be stronger. <br><br>\n",
    "At least, we have these attributes which are slightly correlated. This gives us hope that we might be able to build a meaningful predictor using these ‘weakly’ correlated features.<br><br>\n",
    "Next, we will create a list of features that we would like to iterate the same operation on."
   ]
  },
  {
   "cell_type": "markdown",
   "metadata": {},
   "source": [
    "## Create a list of potential Features that you want to measure correlation with"
   ]
  },
  {
   "cell_type": "code",
   "execution_count": null,
   "metadata": {},
   "outputs": [],
   "source": [
    "potentialFeatures = ['acceleration', 'curve', 'free_kick_accuracy', 'ball_control', 'shot_power', 'stamina']"
   ]
  },
  {
   "cell_type": "markdown",
   "metadata": {},
   "source": [
    "The for loop below prints out the correlation coefficient of \"overall_rating\" of a player with each feature we added to the list as potential."
   ]
  },
  {
   "cell_type": "code",
   "execution_count": null,
   "metadata": {},
   "outputs": [],
   "source": [
    "# check how the features are correlated with the overall ratings\n",
    "\n",
    "for f in potentialFeatures:\n",
    "    related = df['overall_rating'].corr(df[f])\n",
    "    print(\"%s: %f\" % (f,related))"
   ]
  },
  {
   "cell_type": "markdown",
   "metadata": {},
   "source": [
    "## Which features have the highest correlation with overall_rating?\n",
    "\n",
    "Looking at the values printed by the previous cell, we notice that the to two are \"ball_control\" (0.44) and \"shot_power\" (0.43). So these two features seem to have higher correlation with \"overall_rating\".\n"
   ]
  },
  {
   "cell_type": "markdown",
   "metadata": {},
   "source": [
    "<h1 style=\"font-size:2em;color:#2467C0\">Data Visualization:</h1>\n",
    "Next we will start plotting the correlation coefficients of each feature with \"overall_rating\". We start by selecting the columns and creating a list with correlation coefficients, called \"correlations\"."
   ]
  },
  {
   "cell_type": "code",
   "execution_count": 23,
   "metadata": {},
   "outputs": [],
   "source": [
    "cols = ['potential',  'crossing', 'finishing', 'heading_accuracy',\n",
    "       'short_passing', 'volleys', 'dribbling', 'curve', 'free_kick_accuracy',\n",
    "       'long_passing', 'ball_control', 'acceleration', 'sprint_speed',\n",
    "       'agility', 'reactions', 'balance', 'shot_power', 'jumping', 'stamina',\n",
    "       'strength', 'long_shots', 'aggression', 'interceptions', 'positioning',\n",
    "       'vision', 'penalties', 'marking', 'standing_tackle', 'sliding_tackle',\n",
    "       'gk_diving', 'gk_handling', 'gk_kicking', 'gk_positioning',\n",
    "       'gk_reflexes']"
   ]
  },
  {
   "cell_type": "code",
   "execution_count": 24,
   "metadata": {},
   "outputs": [],
   "source": [
    "# create a list containing Pearson's correlation between 'overall_rating' with each column in cols\n",
    "correlations = [ df['overall_rating'].corr(df[f]) for f in cols ]"
   ]
  },
  {
   "cell_type": "code",
   "execution_count": 25,
   "metadata": {},
   "outputs": [
    {
     "data": {
      "text/plain": [
       "(34, 34)"
      ]
     },
     "execution_count": 25,
     "metadata": {},
     "output_type": "execute_result"
    }
   ],
   "source": [
    "len(cols), len(correlations)"
   ]
  },
  {
   "cell_type": "markdown",
   "metadata": {},
   "source": [
    "We make sure that the number of selected features and the correlations calculated are the same, e.g., both 34 in this case. Next couple of cells show some lines of code that use pandas plaotting functions to create a 2D graph of these correlation vealues and column names. "
   ]
  },
  {
   "cell_type": "code",
   "execution_count": 26,
   "metadata": {},
   "outputs": [],
   "source": [
    "# create a function for plotting a dataframe with string columns and numeric values\n",
    "\n",
    "def plot_dataframe(df, y_label):  \n",
    "    color='coral'\n",
    "    fig = plt.gcf()\n",
    "    fig.set_size_inches(20, 12)\n",
    "    plt.ylabel(y_label)\n",
    "\n",
    "    ax = df.correlation.plot(linewidth=3.3, color=color)\n",
    "    ax.set_xticks(df.index)\n",
    "    ax.set_xticklabels(df.attributes, rotation=75); #Notice the ; (remove it and see what happens !)\n",
    "    plt.show()"
   ]
  },
  {
   "cell_type": "code",
   "execution_count": 27,
   "metadata": {},
   "outputs": [],
   "source": [
    "# create a dataframe using cols and correlations\n",
    "\n",
    "df2 = pd.DataFrame({'attributes': cols, 'correlation': correlations}) "
   ]
  },
  {
   "cell_type": "code",
   "execution_count": 28,
   "metadata": {},
   "outputs": [
    {
     "data": {
      "image/png": "[encoded data removed]",
      "text/plain": [
       "<Figure size 1440x864 with 1 Axes>"
      ]
     },
     "metadata": {
      "needs_background": "light"
     },
     "output_type": "display_data"
    }
   ],
   "source": [
    "# let's plot above dataframe using the function we created\n",
    "    \n",
    "plot_dataframe(df2, 'Player\\'s Overall Rating')"
   ]
  },
  {
   "cell_type": "markdown",
   "metadata": {},
   "source": [
    "<h1 style=\"font-size:1.5em;color:#FB41C4\">Analysis of Findings</h1>\n",
    "\n",
    "Now it is time for you to analyze what we plotted. Suppose you have to predict a player's overall rating. Which 5 player attributes would you ask for?\n",
    "<br><br>\n",
    "<b>Hint:</b> Which are the five features with highest correlation coefficients?"
   ]
  },
  {
   "cell_type": "markdown",
   "metadata": {},
   "source": [
    "<h1 style=\"font-size:2em;color:#2467C0\">Clustering Players into Similar Groups</h1>\n",
    "\n",
    "Until now, we used basic statistics and correlation coefficients to start forming an opinion, but can we do better? What if we took some features and start looking at each player using those features? Can we group similar players based on these features? Let's see how we can do this. \n",
    "\n",
    "<b>Note:</b> Generally, someone with domain knowledge needs to define which features. We could have also selected some of the features with highest correlation with overall_rating. However, it does not guarantee best outcome always as we are not sure if the top five features are independent. For example, if 4 of the 5 features depend on the remaining 1 feature, taking all 5 does not give new information."
   ]
  },
  {
   "cell_type": "markdown",
   "metadata": {},
   "source": [
    "## Select Features on Which to Group Players"
   ]
  },
  {
   "cell_type": "code",
   "execution_count": 30,
   "metadata": {},
   "outputs": [
    {
     "data": {
      "text/plain": [
       "['gk_kicking', 'potential', 'marking', 'interceptions', 'standing_tackle']"
      ]
     },
     "execution_count": 30,
     "metadata": {},
     "output_type": "execute_result"
    }
   ],
   "source": [
    "# Define the features you want to use for grouping players\n",
    "\n",
    "select5features = ['gk_kicking', 'potential', 'marking', 'interceptions', 'standing_tackle']\n",
    "select5features"
   ]
  },
  {
   "cell_type": "code",
   "execution_count": 31,
   "metadata": {},
   "outputs": [],
   "source": [
    "# Generate a new dataframe by selecting the features you just defined\n",
    "\n",
    "df_select = df[select5features].copy(deep=True)"
   ]
  },
  {
   "cell_type": "code",
   "execution_count": 32,
   "metadata": {},
   "outputs": [
    {
     "data": {
      "text/html": [
       "<div>\n",
       "<style scoped>\n",
       "    .dataframe tbody tr th:only-of-type {\n",
       "        vertical-align: middle;\n",
       "    }\n",
       "\n",
       "    .dataframe tbody tr th {\n",
       "        vertical-align: top;\n",
       "    }\n",
       "\n",
       "    .dataframe thead th {\n",
       "        text-align: right;\n",
       "    }\n",
       "</style>\n",
       "<table border=\"1\" class=\"dataframe\">\n",
       "  <thead>\n",
       "    <tr style=\"text-align: right;\">\n",
       "      <th></th>\n",
       "      <th>gk_kicking</th>\n",
       "      <th>potential</th>\n",
       "      <th>marking</th>\n",
       "      <th>interceptions</th>\n",
       "      <th>standing_tackle</th>\n",
       "    </tr>\n",
       "  </thead>\n",
       "  <tbody>\n",
       "    <tr>\n",
       "      <th>9973</th>\n",
       "      <td>7.0</td>\n",
       "      <td>83.0</td>\n",
       "      <td>65.0</td>\n",
       "      <td>72.0</td>\n",
       "      <td>73.0</td>\n",
       "    </tr>\n",
       "    <tr>\n",
       "      <th>127761</th>\n",
       "      <td>64.0</td>\n",
       "      <td>73.0</td>\n",
       "      <td>14.0</td>\n",
       "      <td>25.0</td>\n",
       "      <td>13.0</td>\n",
       "    </tr>\n",
       "    <tr>\n",
       "      <th>95314</th>\n",
       "      <td>8.0</td>\n",
       "      <td>75.0</td>\n",
       "      <td>61.0</td>\n",
       "      <td>67.0</td>\n",
       "      <td>68.0</td>\n",
       "    </tr>\n",
       "    <tr>\n",
       "      <th>590</th>\n",
       "      <td>10.0</td>\n",
       "      <td>79.0</td>\n",
       "      <td>74.0</td>\n",
       "      <td>77.0</td>\n",
       "      <td>78.0</td>\n",
       "    </tr>\n",
       "    <tr>\n",
       "      <th>152239</th>\n",
       "      <td>13.0</td>\n",
       "      <td>74.0</td>\n",
       "      <td>73.0</td>\n",
       "      <td>80.0</td>\n",
       "      <td>77.0</td>\n",
       "    </tr>\n",
       "  </tbody>\n",
       "</table>\n",
       "</div>"
      ],
      "text/plain": [
       "        gk_kicking  potential  marking  interceptions  standing_tackle\n",
       "9973           7.0       83.0     65.0           72.0             73.0\n",
       "127761        64.0       73.0     14.0           25.0             13.0\n",
       "95314          8.0       75.0     61.0           67.0             68.0\n",
       "590           10.0       79.0     74.0           77.0             78.0\n",
       "152239        13.0       74.0     73.0           80.0             77.0"
      ]
     },
     "execution_count": 32,
     "metadata": {},
     "output_type": "execute_result"
    }
   ],
   "source": [
    "df_select.head()"
   ]
  },
  {
   "cell_type": "markdown",
   "metadata": {},
   "source": [
    "## Perform KMeans Clustering\n",
    "\n",
    "Now we will use a machine learning method called KMeans to cluster the values (i.e., player features on `gk_kicking`, `potential`, `marking`, `interceptions`, and `standing_tackle`). We will ask for four clusters. We will talk about KMeans clustering and other machine learning tools in Python in Week 7 so we won't discuss these methods here."
   ]
  },
  {
   "cell_type": "code",
   "execution_count": 33,
   "metadata": {},
   "outputs": [],
   "source": [
    "# Perform scaling on the dataframe containing the features\n",
    "\n",
    "data = scale(df_select)\n",
    "\n",
    "# Define number of clusters\n",
    "noOfClusters = 4\n",
    "\n",
    "# Train a model\n",
    "model = KMeans(init='k-means++', n_clusters=noOfClusters, n_init=20).fit(data)"
   ]
  },
  {
   "cell_type": "code",
   "execution_count": null,
   "metadata": {},
   "outputs": [],
   "source": [
    "print(90*'_')\n",
    "print(\"\\nCount of players in each cluster\")\n",
    "print(90*'_')\n",
    "\n",
    "pd.value_counts(model.labels_, sort=False)"
   ]
  },
  {
   "cell_type": "markdown",
   "metadata": {},
   "source": [
    "If you find that the below cell runs into an error, make sure you are running the latest version of `pandas` on your computer (try `pip install pandas` in your terminal). Save and restart your Jupyter session once you have updated `pandas`."
   ]
  },
  {
   "cell_type": "code",
   "execution_count": 34,
   "metadata": {},
   "outputs": [
    {
     "data": {
      "text/html": [
       "<div>\n",
       "<style scoped>\n",
       "    .dataframe tbody tr th:only-of-type {\n",
       "        vertical-align: middle;\n",
       "    }\n",
       "\n",
       "    .dataframe tbody tr th {\n",
       "        vertical-align: top;\n",
       "    }\n",
       "\n",
       "    .dataframe thead th {\n",
       "        text-align: right;\n",
       "    }\n",
       "</style>\n",
       "<table border=\"1\" class=\"dataframe\">\n",
       "  <thead>\n",
       "    <tr style=\"text-align: right;\">\n",
       "      <th></th>\n",
       "      <th>gk_kicking</th>\n",
       "      <th>potential</th>\n",
       "      <th>marking</th>\n",
       "      <th>interceptions</th>\n",
       "      <th>standing_tackle</th>\n",
       "      <th>prediction</th>\n",
       "    </tr>\n",
       "  </thead>\n",
       "  <tbody>\n",
       "    <tr>\n",
       "      <th>0</th>\n",
       "      <td>-0.476713</td>\n",
       "      <td>0.106301</td>\n",
       "      <td>-0.947931</td>\n",
       "      <td>-0.974956</td>\n",
       "      <td>-0.914453</td>\n",
       "      <td>0</td>\n",
       "    </tr>\n",
       "    <tr>\n",
       "      <th>1</th>\n",
       "      <td>-0.036926</td>\n",
       "      <td>0.705421</td>\n",
       "      <td>1.027809</td>\n",
       "      <td>0.983088</td>\n",
       "      <td>1.030279</td>\n",
       "      <td>1</td>\n",
       "    </tr>\n",
       "    <tr>\n",
       "      <th>2</th>\n",
       "      <td>1.921264</td>\n",
       "      <td>0.035621</td>\n",
       "      <td>-1.113440</td>\n",
       "      <td>-0.656114</td>\n",
       "      <td>-1.203084</td>\n",
       "      <td>2</td>\n",
       "    </tr>\n",
       "    <tr>\n",
       "      <th>3</th>\n",
       "      <td>-0.339102</td>\n",
       "      <td>-0.841692</td>\n",
       "      <td>0.548117</td>\n",
       "      <td>0.407364</td>\n",
       "      <td>0.550709</td>\n",
       "      <td>3</td>\n",
       "    </tr>\n",
       "  </tbody>\n",
       "</table>\n",
       "</div>"
      ],
      "text/plain": [
       "   gk_kicking  potential   marking  interceptions  standing_tackle  prediction\n",
       "0   -0.476713   0.106301 -0.947931      -0.974956        -0.914453           0\n",
       "1   -0.036926   0.705421  1.027809       0.983088         1.030279           1\n",
       "2    1.921264   0.035621 -1.113440      -0.656114        -1.203084           2\n",
       "3   -0.339102  -0.841692  0.548117       0.407364         0.550709           3"
      ]
     },
     "execution_count": 34,
     "metadata": {},
     "output_type": "execute_result"
    }
   ],
   "source": [
    "# Create a composite dataframe for plotting\n",
    "# ... Use custom function declared in customplot.py (which we imported at the beginning of this notebook)\n",
    "\n",
    "P = pd_centers(featuresUsed=select5features, centers=model.cluster_centers_)\n",
    "P"
   ]
  },
  {
   "cell_type": "markdown",
   "metadata": {},
   "source": [
    "<h1 style=\"font-size:2em;color:#2467C0\">Visualization of Clusters</h1>\n",
    "We now have 4 clusters based on the features we selected, we can treat them as profiles for similar groups of players. We can visualize these profiles by plotting the centers for each cluster, i.e., the average values for each featuere within the cluster. We will use matplotlib for this visualization. We will learn more about matplotlib in Week 5. "
   ]
  },
  {
   "cell_type": "code",
   "execution_count": 35,
   "metadata": {},
   "outputs": [],
   "source": [
    "# For plotting the graph inside the notebook itself, we use the following command\n",
    "\n",
    "%matplotlib inline"
   ]
  },
  {
   "cell_type": "code",
   "execution_count": 36,
   "metadata": {},
   "outputs": [
    {
     "data": {
      "image/png": "[encoded data removed]",
      "text/plain": [
       "<Figure size 1080x576 with 1 Axes>"
      ]
     },
     "metadata": {
      "needs_background": "light"
     },
     "output_type": "display_data"
    }
   ],
   "source": [
    "parallel_plot(P)"
   ]
  },
  {
   "cell_type": "markdown",
   "metadata": {
    "collapsed": true
   },
   "source": [
    "<h1 style=\"font-size:1.5em;color:#FB41C4\">Analysis of Findings</h1>\n",
    "### Can you identify the groups for each of the below?\n",
    "\n",
    "<ul>\n",
    "<li>Two groups are very similar except in `gk_kicking` - these players can coach each other on `gk_kicking`, where they differ.</li>\n",
    "<li>Two groups are somewhat similar to each other except in potential.</li>\n",
    "</ul>"
   ]
  },
  {
   "cell_type": "code",
   "execution_count": null,
   "metadata": {},
   "outputs": [],
   "source": []
  }
 ],
 "metadata": {
  "kernelspec": {
   "display_name": "Python 3",
   "language": "python",
   "name": "python3"
  },
  "language_info": {
   "codemirror_mode": {
    "name": "ipython",
    "version": 3
   },
   "file_extension": ".py",
   "mimetype": "text/x-python",
   "name": "python",
   "nbconvert_exporter": "python",
   "pygments_lexer": "ipython3",
   "version": "3.8.2"
  }
 },
 "nbformat": 4,
 "nbformat_minor": 1
}
